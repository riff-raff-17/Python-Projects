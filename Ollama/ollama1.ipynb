{
 "cells": [
  {
   "cell_type": "code",
   "execution_count": 27,
   "id": "01a35992-8c2f-4fcf-9743-0c244b7c9b6d",
   "metadata": {},
   "outputs": [
    {
     "name": "stdout",
     "output_type": "stream",
     "text": [
      "172.17.3.155:50051\n",
      "Front语音识别结果是Hello hello how are you\n",
      "<think>\n",
      "好，用户让我把“Hello hello how are you”翻译成中文，并且只要翻译的结果。首先，我需要确认这句话的意思。“Hello hello”是重复问候，可能表达急切或强调，而“how are you”是常见的问候语。\n",
      "\n",
      "接下来，我得考虑如何准确地翻译。直接翻译的话，“你好你好 你怎么样了？”这样会比较直译，但中文里通常不会在口语中连续用两个“你好”，所以是否需要调整呢？不过用户要求只输出翻译结果，不需要加额外解释，所以我保持原样。\n",
      "\n",
      "再检查一下语法和语感。“你好你好”听起来有点重复，但在表达急切时是可以接受的。而“you”的翻译是“你”。整体来看，“你好你好 你怎么样了？”这句话在中文里是通顺的，符合用户的要求。\n",
      "</think>\n",
      "\n",
      "你好你好 你怎么样了？\n"
     ]
    }
   ],
   "source": [
    "from ugot import ugot\n",
    "import time\n",
    "import math\n",
    "import ollama\n",
    "\n",
    "#链接机器人\n",
    "a=ugot.UGOT()\n",
    "a.initialize(\"172.17.3.155\")\n",
    "\n",
    "#识别输入语音\n",
    "Question1=a.start_audio_asr_doa()\n",
    "dir=Question1[0]\n",
    "input1=Question1[1]\n",
    "\n",
    "#打印识别结果\n",
    "print(f\"{dir}语音识别结果是{input1}\")\n",
    "\n",
    "#导入模型\n",
    "model=\"deepseek-r1:14b\"\n",
    "\n",
    "#提示词\n",
    "prompt=\"你是英文翻译中文的专家，   理解输入的文字，只输出翻译后的结果，    要求中文格式\"\n",
    "input1=prompt+input1\n",
    "\n",
    "#调用大模型翻译\n",
    "response=ollama.chat(model,messages=[{\"role\":\"user\",\"content\":input1,},])\n",
    "AI_trans=response[\"message\"][\"content\"]\n",
    "\n",
    "#打印翻译结果\n",
    "print(AI_trans)\n",
    "#a=input()\n"
   ]
  },
  {
   "cell_type": "code",
   "execution_count": 14,
   "id": "fc47220f-dfc8-42b9-87ca-ba35ad86d6ea",
   "metadata": {},
   "outputs": [
    {
     "name": "stdin",
     "output_type": "stream",
     "text": [
      " 1  您好\n"
     ]
    },
    {
     "name": "stdout",
     "output_type": "stream",
     "text": [
      "<think>\n",
      "嗯，用户发来一条信息，是让我帮忙翻译的。他提到我是中英口语翻译专家，首先得理解冒号后面文字的语言，然后翻译成另一种语言。规则很清楚，如果输入的是中文，就翻译成英文；如果是英文，则翻译成中文。\n",
      "\n",
      "现在看具体的内容：“您好”。这是个问候语，显然是中文。所以按照要求，我应该把它翻译成英文。对应的英文应该是“Hello”。\n",
      "\n",
      "用户可能是在测试我的能力，或者有实际的翻译需求。考虑到“您好”是一个常用的表达，翻译起来不难，但我要确保准确性。有没有可能是其他语言？比如法语是“Bonjour”，但这里明确要求中英互译，所以没问题。\n",
      "\n",
      "接下来，我只需要输出英文结果，也就是“Hello”。不需要额外的信息或解释，直接给出答案即可。\n",
      "</think>\n",
      "\n",
      "Hello"
     ]
    }
   ],
   "source": [
    "# 1.中英文翻译\n",
    "# 2.UI界面\n",
    "# 3.实时输出\n",
    "# （1）语言显示\n",
    "# （2）翻译时间\n",
    "# （3）翻译结果 \n",
    "#\n",
    "#\n",
    "from ugot import ugot\n",
    "import time\n",
    "import math\n",
    "import ollama\n",
    "\n",
    "model=\"deepseek-r1:14b\"\n",
    "\n",
    "prompt=\"你是中英口语翻译中文的专家，先理解冒号后面输入的文字是什么语言，理解输入的文字，翻译该语言，要求如果是输入语言中文只输出英文结果，如果是输入语言英文只输出中文结果：\"\n",
    "\n",
    "input_str=input(\" 1 \")\n",
    "\n",
    "input_str=prompt+input_str\n",
    "\n",
    "trans=ollama.chat(model,messages=[{\"role\":\"user\",\"content\":input_str}],stream=True)\n",
    "\n",
    "for chunk in trans:\n",
    "    trans_str=chunk[\"message\"][\"content\"]\n",
    "    print(trans_str,end=\"\",flush=True)"
   ]
  },
  {
   "cell_type": "code",
   "execution_count": 4,
   "id": "d4fd176d-768f-4ec8-9065-3e6b993f4d15",
   "metadata": {},
   "outputs": [
    {
     "name": "stdout",
     "output_type": "stream",
     "text": [
      "172.17.4.149:50051\n"
     ]
    }
   ],
   "source": [
    "from ugot import ugot\n",
    "import time\n",
    "import math\n",
    "import ollama\n",
    "\n",
    "a=ugot.UGOT()\n",
    "a.initialize(\"172.17.4.149\")\n",
    "\n",
    "earth_list=[\"FR\",\"RUS\",\"US\",\"CN\",\"UK\",\"FR\",\"RUS\",\"US\",\"CN\",\"UK\",\"FR\",\"RUS\",\"US\",\"CN\",\"UK\",\"FR\",\"RUS\",\"US\",\"CN\",\"UK\"]\n",
    "\n",
    "time0=time.time()\n",
    "\n",
    "a.screen_clear()\n",
    "\n",
    "for i in earth_list:\n",
    "    #time.sleep(0.25)\n",
    "    a.screen_clear()\n",
    "    time_update=time.time()\n",
    "    time_input=time_update-time0\n",
    "    a.screen_print_text(\"翻译中请等待,用时：\",1)\n",
    "    a.screen_print_text_newline(f\"{time_input:1f}\",1)\n",
    "    a.screen_print_text(\"/\",1)\n",
    "    time.sleep(0.5)\n",
    "    \n",
    "    a.screen_clear()\n",
    "    time_update=time.time()\n",
    "    time_input=time_update-time0\n",
    "    a.screen_print_text(\"翻译中请等待,用时：\",1)\n",
    "    a.screen_print_text_newline(f\"{time_input:1f}\",1)\n",
    "    a.screen_print_text(\"--\",1)\n",
    "    time.sleep(0.5)\n",
    "    \n",
    "    a.screen_clear()\n",
    "    time_update=time.time()\n",
    "    time_input=time_update-time0\n",
    "    a.screen_print_text(\"翻译中请等待,用时：\",1)\n",
    "    a.screen_print_text_newline(f\"{time_input:1f}\",1)\n",
    "    a.screen_print_text(\" \\ \",1)\n",
    "    time.sleep(0.5)\n",
    "    \n",
    "    a.screen_clear()\n",
    "    time_update=time.time()\n",
    "    time_input=time_update-time0\n",
    "    a.screen_print_text(\"翻译中请等待,用时：\",1)\n",
    "    a.screen_print_text_newline(f\"{time_input:1f}\",1)\n",
    "    a.screen_print_text(\"-\",1)                    \n",
    "    time.sleep(0.5)\n",
    "\n",
    "time_update=time.time()\n",
    "time_input=time_update-time0\n",
    "a.screen_clear()\n",
    "a.screen_print_text_newline(\"翻译成功：\",1)\n",
    "a.screen_print_text(\"用时：\",1)\n",
    "a.screen_print_text_newline(f\"{time_input:1f}\",1)\n",
    "a.screen_print_text_newline(\"--------------------------\",1)\n",
    "a.screen_print_text_newline(earth_list,1)\n",
    "a.screen_print_text_newline(\"--------------------------\",1)"
   ]
  },
  {
   "cell_type": "code",
   "execution_count": 23,
   "id": "5044496d-e5af-4ed0-82c7-2be3d34aca61",
   "metadata": {},
   "outputs": [
    {
     "name": "stdout",
     "output_type": "stream",
     "text": [
      " Hello\n",
      "检测到英文输入，正在翻译为中文\n"
     ]
    }
   ],
   "source": [
    "str1=\"<think> 嗯，用户发来一条信息，是让我帮忙翻译的。他提到我是中英口语翻译专家，中文fadfa中文dsfa英文dsfasfadsf </think> Hello\"\n",
    "str2=\"<think> 英文fadsfadsfadsfasfadsf </think> 您好\"\n",
    "\n",
    "a=str1.split(\"</think>\")\n",
    "\n",
    "#if \"\" in :\n",
    "if str2.count(\"中文\")>0:\n",
    "    CN_index=str2.index(\"中文\")\n",
    "else:\n",
    "    CN_index=len(str2)+1\n",
    "    \n",
    "if str2.count(\"英文\")>0:\n",
    "    EN_index=str2.index(\"英文\")\n",
    "else:\n",
    "    EN_index=len(str2)+1\n",
    "    \n",
    "if CN_index<EN_index:\n",
    "    input_lag=\"中文\"\n",
    "    output_lag=\"英文\"\n",
    "else:\n",
    "    input_lag=\"英文\"\n",
    "    output_lag=\"中文\"\n",
    "#b=str1.count(\"asdads\")\n",
    "\n",
    "#print(CN_index,EN_index)\n",
    "print(a[1])\n",
    "print(f\"检测到{input_lag}输入，正在翻译为{output_lag}\")"
   ]
  },
  {
   "cell_type": "code",
   "execution_count": 1,
   "id": "bad2bb95-61b8-430f-a06f-a693f11d068f",
   "metadata": {},
   "outputs": [
    {
     "name": "stdout",
     "output_type": "stream",
     "text": [
      "172.17.4.149:50051\n"
     ]
    }
   ],
   "source": [
    "#导入库\n",
    "from ugot import ugot\n",
    "import time\n",
    "import math\n",
    "import ollama\n",
    "\n",
    "#连接机器人与电脑\n",
    "a=ugot.UGOT()\n",
    "a.initialize(\"172.17.4.149\")\n",
    "\n",
    "#AI模型导入与提示词设置\n",
    "model=\"deepseek-r1:14b\"\n",
    "prompt=\"你是中英口语翻译中文的专家，思考的开始先回答冒号后面输入的文字是什么语言，理解输入的文字，翻译该语言，要求如果是输入语言中文只输出英文结果，如果是输入语言英文只输出中文结果：\"\n",
    "\n",
    "#使用ASR识别自然语言到字符串\n",
    "Question1=a.start_audio_asr_doa()\n",
    "dir=Question1[0]\n",
    "Question1=Question1[1]\n",
    "\n",
    "#显示语音输入和UI\n",
    "a.screen_clear()\n",
    "a.screen_print_text_newline(f\"识别到： {Question1}  翻译中\",1)\n",
    "\n",
    "Question1=prompt+Question1\n",
    "\n",
    "#使用AI大模型思考字符串，给出回答字符串\n",
    "response=ollama.chat(model,messages=[{\"role\":\"user\",\"content\":Question1,},])\n",
    "AI_an=response[\"message\"][\"content\"]\n",
    "\n",
    "#处理回答字符串，舍弃think部分,分析是中文or英文\n",
    "AI_trans=AI_an.split(\"</think>\")\n",
    "AI_trans=AI_trans[1]\n",
    "if AI_an.count(\"中文\")>0:\n",
    "    CN_index=AI_an.index(\"中文\")\n",
    "else:\n",
    "    CN_index=len(AI_an)+1\n",
    "    \n",
    "if AI_an.count(\"英文\")>0:\n",
    "    EN_index=AI_an.index(\"英文\")\n",
    "else:\n",
    "    EN_index=len(AI_an)+1\n",
    "    \n",
    "if CN_index<EN_index:\n",
    "    input_lag=\"中文\"\n",
    "    output_lag=\"英文\"\n",
    "else:\n",
    "    input_lag=\"英文\"\n",
    "    output_lag=\"中文\"\n",
    "\n",
    "#显示处理结果到机器人屏幕上\n",
    "a.screen_clear()\n",
    "a.screen_print_text_newline(f\"翻译成功：成功从{input_lag}翻译到{output_lag}，翻译结果如下：\",1)\n",
    "a.screen_print_text_newline(\"--------------------------\",1)\n",
    "a.screen_print_text_newline(AI_trans,1)\n",
    "a.screen_print_text_newline(\"--------------------------\",1)"
   ]
  },
  {
   "cell_type": "code",
   "execution_count": null,
   "id": "9225ac65-6e31-4864-965c-3aac5ae6123c",
   "metadata": {},
   "outputs": [],
   "source": []
  }
 ],
 "metadata": {
  "kernelspec": {
   "display_name": "Python 3 (ipykernel)",
   "language": "python",
   "name": "python3"
  },
  "language_info": {
   "codemirror_mode": {
    "name": "ipython",
    "version": 3
   },
   "file_extension": ".py",
   "mimetype": "text/x-python",
   "name": "python",
   "nbconvert_exporter": "python",
   "pygments_lexer": "ipython3",
   "version": "3.11.5"
  }
 },
 "nbformat": 4,
 "nbformat_minor": 5
}
